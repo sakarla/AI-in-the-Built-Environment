{
  "nbformat": 4,
  "nbformat_minor": 0,
  "metadata": {
    "kernelspec": {
      "display_name": "Python 3",
      "language": "python",
      "name": "python3"
    },
    "language_info": {
      "codemirror_mode": {
        "name": "ipython",
        "version": 3
      },
      "file_extension": ".py",
      "mimetype": "text/x-python",
      "name": "python",
      "nbconvert_exporter": "python",
      "pygments_lexer": "ipython3",
      "version": "3.7.0"
    },
    "colab": {
      "provenance": [],
      "include_colab_link": true
    }
  },
  "cells": [
    {
      "cell_type": "markdown",
      "metadata": {
        "id": "view-in-github",
        "colab_type": "text"
      },
      "source": [
        "<a href=\"https://colab.research.google.com/github/sakarla/AI-in-the-Built-Environment/blob/main/week%206-7-classification/Note%20Book/A1.ipynb\" target=\"_parent\"><img src=\"https://colab.research.google.com/assets/colab-badge.svg\" alt=\"Open In Colab\"/></a>"
      ]
    },
    {
      "cell_type": "markdown",
      "metadata": {
        "id": "rUgDzNlI79Pk"
      },
      "source": [
        "<table class=\"tfo-notebook-buttons\" align=\"left\">\n",
        "\n",
        "  <td>\n",
        "    <a target=\"_blank\" href=\"https://colab.research.google.com/drive/1yrdikxLYAgJewvvsI_laTVIoomo-mmJP?usp=sharing\"><img src=\"https://www.tensorflow.org/images/colab_logo_32px.png\" />Click here to run in Google Colab</a>\n",
        "  </td>\n",
        "\n",
        "</table>"
      ]
    },
    {
      "cell_type": "markdown",
      "source": [
        "## A1 - A classification problem\n",
        "\n"
      ],
      "metadata": {
        "id": "0icrfeghocoz"
      }
    },
    {
      "cell_type": "code",
      "metadata": {
        "_cell_guid": "79c7e3d0-c299-4dcb-8224-4455121ee9b0",
        "_uuid": "d629ff2d2480ee46fbb7e2d37f6b5fab8052498a",
        "id": "AO32EdS36d2r"
      },
      "source": [
        "# Import modules to be used later\n",
        "import numpy as np\n",
        "import pandas as pd\n",
        "import seaborn as sns\n",
        "from sklearn.model_selection import train_test_split"
      ],
      "execution_count": null,
      "outputs": []
    },
    {
      "cell_type": "code",
      "metadata": {
        "id": "rjN53HQeq2xd",
        "colab": {
          "base_uri": "https://localhost:8080/",
          "height": 53
        },
        "outputId": "9a3c7c60-655b-4e74-9067-1d57e9ffffcd"
      },
      "source": [
        "# Download data if it doesn't exist in the folder\n",
        "!pip install wget\n",
        "import wget\n",
        "wget.download('https://raw.githubusercontent.com/NHERI-SimCenter/SimCenterAI_Workshop2021/master/notebooks/day1/Building_in_Hurricane.csv')"
      ],
      "execution_count": null,
      "outputs": [
        {
          "output_type": "stream",
          "name": "stdout",
          "text": [
            "Requirement already satisfied: wget in /usr/local/lib/python3.7/dist-packages (3.2)\n"
          ]
        },
        {
          "output_type": "execute_result",
          "data": {
            "application/vnd.google.colaboratory.intrinsic+json": {
              "type": "string"
            },
            "text/plain": [
              "'Building_in_Hurricane (2).csv'"
            ]
          },
          "metadata": {},
          "execution_count": 52
        }
      ]
    },
    {
      "cell_type": "markdown",
      "metadata": {
        "id": "ZY1jT1er6d2s"
      },
      "source": [
        "## 1. Load data"
      ]
    },
    {
      "cell_type": "code",
      "metadata": {
        "id": "7k5kkPDM6d2t",
        "outputId": "1fcb474e-3357-45bf-cd43-f733b97a4ac6",
        "colab": {
          "base_uri": "https://localhost:8080/",
          "height": 424
        }
      },
      "source": [
        "# Read data into a pandas dataframe\n",
        "all_data = pd.read_csv(\"Building_in_Hurricane.csv\")\n",
        "all_data"
      ],
      "execution_count": null,
      "outputs": [
        {
          "output_type": "execute_result",
          "data": {
            "text/html": [
              "\n",
              "  <div id=\"df-f72bacb2-10d4-40a3-877d-ead0b3d51eaf\">\n",
              "    <div class=\"colab-df-container\">\n",
              "      <div>\n",
              "<style scoped>\n",
              "    .dataframe tbody tr th:only-of-type {\n",
              "        vertical-align: middle;\n",
              "    }\n",
              "\n",
              "    .dataframe tbody tr th {\n",
              "        vertical-align: top;\n",
              "    }\n",
              "\n",
              "    .dataframe thead th {\n",
              "        text-align: right;\n",
              "    }\n",
              "</style>\n",
              "<table border=\"1\" class=\"dataframe\">\n",
              "  <thead>\n",
              "    <tr style=\"text-align: right;\">\n",
              "      <th></th>\n",
              "      <th>overall_building_condition</th>\n",
              "      <th>max_mph</th>\n",
              "      <th>age_yrs</th>\n",
              "      <th>number_of_stories</th>\n",
              "      <th>roof_shape</th>\n",
              "      <th>roof_cover</th>\n",
              "      <th>wall_cladding</th>\n",
              "      <th>structural_framing_system</th>\n",
              "    </tr>\n",
              "  </thead>\n",
              "  <tbody>\n",
              "    <tr>\n",
              "      <th>0</th>\n",
              "      <td>0</td>\n",
              "      <td>80</td>\n",
              "      <td>14.0</td>\n",
              "      <td>1.0</td>\n",
              "      <td>Complex</td>\n",
              "      <td>Tile (clay)</td>\n",
              "      <td>Stucco</td>\n",
              "      <td>Wood-frame</td>\n",
              "    </tr>\n",
              "    <tr>\n",
              "      <th>1</th>\n",
              "      <td>1</td>\n",
              "      <td>80</td>\n",
              "      <td>29.0</td>\n",
              "      <td>2.0</td>\n",
              "      <td>Gable</td>\n",
              "      <td>Tile (clay)</td>\n",
              "      <td>Stucco</td>\n",
              "      <td>Wood-frame</td>\n",
              "    </tr>\n",
              "    <tr>\n",
              "      <th>2</th>\n",
              "      <td>0</td>\n",
              "      <td>85</td>\n",
              "      <td>27.0</td>\n",
              "      <td>2.0</td>\n",
              "      <td>Complex</td>\n",
              "      <td>Tile (clay)</td>\n",
              "      <td>Stucco</td>\n",
              "      <td>Wood-frame</td>\n",
              "    </tr>\n",
              "    <tr>\n",
              "      <th>3</th>\n",
              "      <td>1</td>\n",
              "      <td>85</td>\n",
              "      <td>24.0</td>\n",
              "      <td>1.0</td>\n",
              "      <td>Hip</td>\n",
              "      <td>Asphalt shingles (laminated)</td>\n",
              "      <td>Stucco</td>\n",
              "      <td>Wood-frame</td>\n",
              "    </tr>\n",
              "    <tr>\n",
              "      <th>4</th>\n",
              "      <td>1</td>\n",
              "      <td>85</td>\n",
              "      <td>30.0</td>\n",
              "      <td>2.0</td>\n",
              "      <td>Gable</td>\n",
              "      <td>Asphalt shingles (laminated)</td>\n",
              "      <td>Wood Siding</td>\n",
              "      <td>Wood-frame</td>\n",
              "    </tr>\n",
              "    <tr>\n",
              "      <th>...</th>\n",
              "      <td>...</td>\n",
              "      <td>...</td>\n",
              "      <td>...</td>\n",
              "      <td>...</td>\n",
              "      <td>...</td>\n",
              "      <td>...</td>\n",
              "      <td>...</td>\n",
              "      <td>...</td>\n",
              "    </tr>\n",
              "    <tr>\n",
              "      <th>921</th>\n",
              "      <td>1</td>\n",
              "      <td>95</td>\n",
              "      <td>40.0</td>\n",
              "      <td>1.0</td>\n",
              "      <td>Gambrel</td>\n",
              "      <td>Asphalt shingles (3-tab)</td>\n",
              "      <td>Wood Siding</td>\n",
              "      <td>Wood-frame</td>\n",
              "    </tr>\n",
              "    <tr>\n",
              "      <th>922</th>\n",
              "      <td>1</td>\n",
              "      <td>90</td>\n",
              "      <td>38.0</td>\n",
              "      <td>1.0</td>\n",
              "      <td>Gable</td>\n",
              "      <td>Asphalt shingles (3-tab)</td>\n",
              "      <td>Wood Siding</td>\n",
              "      <td>Wood-frame</td>\n",
              "    </tr>\n",
              "    <tr>\n",
              "      <th>923</th>\n",
              "      <td>1</td>\n",
              "      <td>105</td>\n",
              "      <td>22.0</td>\n",
              "      <td>2.0</td>\n",
              "      <td>Gable</td>\n",
              "      <td>Asphalt shingles (3-tab)</td>\n",
              "      <td>Vinyl Siding</td>\n",
              "      <td>Wood-frame</td>\n",
              "    </tr>\n",
              "    <tr>\n",
              "      <th>924</th>\n",
              "      <td>0</td>\n",
              "      <td>100</td>\n",
              "      <td>16.0</td>\n",
              "      <td>1.0</td>\n",
              "      <td>Hip</td>\n",
              "      <td>Asphalt shingles (3-tab)</td>\n",
              "      <td>Stucco</td>\n",
              "      <td>Wood-frame</td>\n",
              "    </tr>\n",
              "    <tr>\n",
              "      <th>925</th>\n",
              "      <td>2</td>\n",
              "      <td>105</td>\n",
              "      <td>50.0</td>\n",
              "      <td>2.0</td>\n",
              "      <td>Gable</td>\n",
              "      <td>Asphalt shingles (3-tab)</td>\n",
              "      <td>Wood Siding</td>\n",
              "      <td>Wood-frame</td>\n",
              "    </tr>\n",
              "  </tbody>\n",
              "</table>\n",
              "<p>926 rows × 8 columns</p>\n",
              "</div>\n",
              "      <button class=\"colab-df-convert\" onclick=\"convertToInteractive('df-f72bacb2-10d4-40a3-877d-ead0b3d51eaf')\"\n",
              "              title=\"Convert this dataframe to an interactive table.\"\n",
              "              style=\"display:none;\">\n",
              "        \n",
              "  <svg xmlns=\"http://www.w3.org/2000/svg\" height=\"24px\"viewBox=\"0 0 24 24\"\n",
              "       width=\"24px\">\n",
              "    <path d=\"M0 0h24v24H0V0z\" fill=\"none\"/>\n",
              "    <path d=\"M18.56 5.44l.94 2.06.94-2.06 2.06-.94-2.06-.94-.94-2.06-.94 2.06-2.06.94zm-11 1L8.5 8.5l.94-2.06 2.06-.94-2.06-.94L8.5 2.5l-.94 2.06-2.06.94zm10 10l.94 2.06.94-2.06 2.06-.94-2.06-.94-.94-2.06-.94 2.06-2.06.94z\"/><path d=\"M17.41 7.96l-1.37-1.37c-.4-.4-.92-.59-1.43-.59-.52 0-1.04.2-1.43.59L10.3 9.45l-7.72 7.72c-.78.78-.78 2.05 0 2.83L4 21.41c.39.39.9.59 1.41.59.51 0 1.02-.2 1.41-.59l7.78-7.78 2.81-2.81c.8-.78.8-2.07 0-2.86zM5.41 20L4 18.59l7.72-7.72 1.47 1.35L5.41 20z\"/>\n",
              "  </svg>\n",
              "      </button>\n",
              "      \n",
              "  <style>\n",
              "    .colab-df-container {\n",
              "      display:flex;\n",
              "      flex-wrap:wrap;\n",
              "      gap: 12px;\n",
              "    }\n",
              "\n",
              "    .colab-df-convert {\n",
              "      background-color: #E8F0FE;\n",
              "      border: none;\n",
              "      border-radius: 50%;\n",
              "      cursor: pointer;\n",
              "      display: none;\n",
              "      fill: #1967D2;\n",
              "      height: 32px;\n",
              "      padding: 0 0 0 0;\n",
              "      width: 32px;\n",
              "    }\n",
              "\n",
              "    .colab-df-convert:hover {\n",
              "      background-color: #E2EBFA;\n",
              "      box-shadow: 0px 1px 2px rgba(60, 64, 67, 0.3), 0px 1px 3px 1px rgba(60, 64, 67, 0.15);\n",
              "      fill: #174EA6;\n",
              "    }\n",
              "\n",
              "    [theme=dark] .colab-df-convert {\n",
              "      background-color: #3B4455;\n",
              "      fill: #D2E3FC;\n",
              "    }\n",
              "\n",
              "    [theme=dark] .colab-df-convert:hover {\n",
              "      background-color: #434B5C;\n",
              "      box-shadow: 0px 1px 3px 1px rgba(0, 0, 0, 0.15);\n",
              "      filter: drop-shadow(0px 1px 2px rgba(0, 0, 0, 0.3));\n",
              "      fill: #FFFFFF;\n",
              "    }\n",
              "  </style>\n",
              "\n",
              "      <script>\n",
              "        const buttonEl =\n",
              "          document.querySelector('#df-f72bacb2-10d4-40a3-877d-ead0b3d51eaf button.colab-df-convert');\n",
              "        buttonEl.style.display =\n",
              "          google.colab.kernel.accessAllowed ? 'block' : 'none';\n",
              "\n",
              "        async function convertToInteractive(key) {\n",
              "          const element = document.querySelector('#df-f72bacb2-10d4-40a3-877d-ead0b3d51eaf');\n",
              "          const dataTable =\n",
              "            await google.colab.kernel.invokeFunction('convertToInteractive',\n",
              "                                                     [key], {});\n",
              "          if (!dataTable) return;\n",
              "\n",
              "          const docLinkHtml = 'Like what you see? Visit the ' +\n",
              "            '<a target=\"_blank\" href=https://colab.research.google.com/notebooks/data_table.ipynb>data table notebook</a>'\n",
              "            + ' to learn more about interactive tables.';\n",
              "          element.innerHTML = '';\n",
              "          dataTable['output_type'] = 'display_data';\n",
              "          await google.colab.output.renderOutput(dataTable, element);\n",
              "          const docLink = document.createElement('div');\n",
              "          docLink.innerHTML = docLinkHtml;\n",
              "          element.appendChild(docLink);\n",
              "        }\n",
              "      </script>\n",
              "    </div>\n",
              "  </div>\n",
              "  "
            ],
            "text/plain": [
              "     overall_building_condition  ...  structural_framing_system\n",
              "0                             0  ...                 Wood-frame\n",
              "1                             1  ...                 Wood-frame\n",
              "2                             0  ...                 Wood-frame\n",
              "3                             1  ...                 Wood-frame\n",
              "4                             1  ...                 Wood-frame\n",
              "..                          ...  ...                        ...\n",
              "921                           1  ...                 Wood-frame\n",
              "922                           1  ...                 Wood-frame\n",
              "923                           1  ...                 Wood-frame\n",
              "924                           0  ...                 Wood-frame\n",
              "925                           2  ...                 Wood-frame\n",
              "\n",
              "[926 rows x 8 columns]"
            ]
          },
          "metadata": {},
          "execution_count": 53
        }
      ]
    },
    {
      "cell_type": "markdown",
      "source": [
        "Our task is to fit a model:\n",
        "\n",
        "\n",
        "**input** ['max_mph', 'age_yrs', 'number_of_stories',\n",
        "       'roof_shape', 'roof_cover', 'wall_cladding',\n",
        "       'structural_framing_system']\n",
        "\n",
        "\n",
        "**output** ['overall_building_condition']"
      ],
      "metadata": {
        "id": "rUZ_ZlDOo-DL"
      }
    },
    {
      "cell_type": "markdown",
      "metadata": {
        "id": "DcnvgF726d2u"
      },
      "source": [
        "## 2. Data preprocessing\n",
        "### Prepare input and output data"
      ]
    },
    {
      "cell_type": "code",
      "metadata": {
        "id": "RR4NBhCq6d2u",
        "colab": {
          "base_uri": "https://localhost:8080/"
        },
        "outputId": "b4fe22d6-cb84-4c6c-8c2c-c588fd26c4ab"
      },
      "source": [
        "X = all_data.iloc[:, [1,2,3,4,5,6,7]].values\n",
        "Y = all_data.iloc[:, 0]\n",
        "\n",
        "print('X shape: ', X.shape)\n",
        "print('X: ', X)\n",
        "print('y shape: ', Y.shape)\n",
        "print('Y: ', Y)"
      ],
      "execution_count": null,
      "outputs": [
        {
          "output_type": "stream",
          "name": "stdout",
          "text": [
            "X shape:  (926, 7)\n",
            "X:  [[80 14.0 1.0 ... 'Tile (clay)' 'Stucco' 'Wood-frame']\n",
            " [80 29.0 2.0 ... 'Tile (clay)' 'Stucco' 'Wood-frame']\n",
            " [85 27.0 2.0 ... 'Tile (clay)' 'Stucco' 'Wood-frame']\n",
            " ...\n",
            " [105 22.0 2.0 ... 'Asphalt shingles (3-tab)' 'Vinyl Siding' 'Wood-frame']\n",
            " [100 16.0 1.0 ... 'Asphalt shingles (3-tab)' 'Stucco' 'Wood-frame']\n",
            " [105 50.0 2.0 ... 'Asphalt shingles (3-tab)' 'Wood Siding' 'Wood-frame']]\n",
            "y shape:  (926,)\n",
            "Y:  0      0\n",
            "1      1\n",
            "2      0\n",
            "3      1\n",
            "4      1\n",
            "      ..\n",
            "921    1\n",
            "922    1\n",
            "923    1\n",
            "924    0\n",
            "925    2\n",
            "Name: overall_building_condition, Length: 926, dtype: int64\n"
          ]
        }
      ]
    },
    {
      "cell_type": "code",
      "metadata": {
        "id": "DOnjrSb16d2u",
        "colab": {
          "base_uri": "https://localhost:8080/"
        },
        "outputId": "b31c6759-d0d9-4b0e-96b7-c7603142daf5"
      },
      "source": [
        "Y.value_counts()"
      ],
      "execution_count": null,
      "outputs": [
        {
          "output_type": "execute_result",
          "data": {
            "text/plain": [
              "1    441\n",
              "0    288\n",
              "2    197\n",
              "Name: overall_building_condition, dtype: int64"
            ]
          },
          "metadata": {},
          "execution_count": 55
        }
      ]
    },
    {
      "cell_type": "markdown",
      "metadata": {
        "id": "HokwcL5I6d2v"
      },
      "source": [
        "### Encode categorical variables"
      ]
    },
    {
      "cell_type": "code",
      "metadata": {
        "id": "G9wchY4v6d2v"
      },
      "source": [
        "# Encoding Categorical Variables\n",
        "from sklearn import preprocessing\n",
        "le = preprocessing.LabelEncoder()\n",
        "\n",
        "X[:,3] = le.fit_transform(X[:,3]) #roof_shape\n",
        "X[:,4] = le.fit_transform(X[:,4]) #roof_cover\n",
        "X[:,5] = le.fit_transform(X[:,5]) #wall_cladding\n",
        "X[:,6] = le.fit_transform(X[:,6]) #structural_framing_system\n"
      ],
      "execution_count": null,
      "outputs": []
    },
    {
      "cell_type": "markdown",
      "metadata": {
        "id": "7e4nkuWy6d2w"
      },
      "source": [
        "### Split into train and test sets"
      ]
    },
    {
      "cell_type": "code",
      "metadata": {
        "id": "Rf3tqGHt6d2x",
        "outputId": "d176ea9f-c560-4f89-8a14-b23b40ad1733",
        "colab": {
          "base_uri": "https://localhost:8080/"
        }
      },
      "source": [
        "from sklearn.model_selection import train_test_split\n",
        "\n",
        "X_train, X_test, Y_train, Y_test = train_test_split(X, Y, test_size = 0.2, random_state=1993)\n",
        "\n",
        "print('X_train shape: ', X_train.shape)\n",
        "print('Y_train shape: ', Y_train.shape)\n",
        "print('X_test shape: ', X_test.shape)\n",
        "print('Y_test shape: ', Y_test.shape)\n"
      ],
      "execution_count": null,
      "outputs": [
        {
          "output_type": "stream",
          "name": "stdout",
          "text": [
            "X_train shape:  (740, 7)\n",
            "Y_train shape:  (740,)\n",
            "X_test shape:  (186, 7)\n",
            "Y_test shape:  (186,)\n"
          ]
        }
      ]
    },
    {
      "cell_type": "markdown",
      "metadata": {
        "id": "BkjdbSn46d2x"
      },
      "source": [
        "## 3. MODEL"
      ]
    },
    {
      "cell_type": "markdown",
      "metadata": {
        "id": "qIZSRL0i6d23"
      },
      "source": [
        "## 3.1 Multilayer Perceptron (Neural Network)"
      ]
    },
    {
      "cell_type": "code",
      "metadata": {
        "id": "wcxl6nTd6d23"
      },
      "source": [
        "from sklearn.neural_network import MLPClassifier\n",
        "from sklearn.metrics import confusion_matrix\n",
        "from sklearn.metrics import f1_score\n",
        "\n",
        "\n"
      ],
      "execution_count": null,
      "outputs": []
    },
    {
      "cell_type": "code",
      "source": [
        "# Build and train a neural network with 1 hidden layer of 10 perceptrons\n",
        "model = MLPClassifier(hidden_layer_sizes=(10,),max_iter=2000)\n",
        "model.fit(X_train,Y_train)\n",
        "Y_pred = model.predict(X_test)\n",
        "f1 = f1_score(Y_test.to_numpy(),Y_pred, average='micro')\n",
        "print(f1)\n"
      ],
      "metadata": {
        "colab": {
          "base_uri": "https://localhost:8080/"
        },
        "id": "bzcd0hMcJSkH",
        "outputId": "19b940cb-e36b-40ed-9dcf-d90054b96608"
      },
      "execution_count": null,
      "outputs": [
        {
          "output_type": "stream",
          "name": "stdout",
          "text": [
            "0.4731182795698925\n"
          ]
        }
      ]
    },
    {
      "cell_type": "code",
      "source": [
        "# Build and train a neural network with 2 hidden layers: the first layer has 20 perceptrons, the second has 30 perceptrons\n",
        "model = MLPClassifier(hidden_layer_sizes=(20, 30),max_iter=2000)\n",
        "model.fit(X_train,Y_train)\n",
        "Y_pred = model.predict(X_test)\n",
        "f1 = f1_score(Y_test.to_numpy(),Y_pred, average='micro')\n",
        "print(f1)\n",
        "\n"
      ],
      "metadata": {
        "colab": {
          "base_uri": "https://localhost:8080/"
        },
        "id": "vsjPj4XCVSCG",
        "outputId": "2ecd0e28-2433-436f-9f29-542d56791226"
      },
      "execution_count": null,
      "outputs": [
        {
          "output_type": "stream",
          "name": "stdout",
          "text": [
            "0.6129032258064516\n"
          ]
        }
      ]
    },
    {
      "cell_type": "markdown",
      "source": [
        "## 3.2. Your assignment\n",
        "\n",
        "Build and train 5 neural networks for the above data, with increasing layers and perceptrons.\n",
        "\n",
        "\n",
        "Print the f1 score of them.\n",
        "\n",
        "\n",
        "And, based on the f1 scores, can you make a conclusion:\n",
        "\n",
        "\n",
        "Is it always good to increase the complexity of a model?"
      ],
      "metadata": {
        "id": "hDDple8SJpHO"
      }
    },
    {
      "cell_type": "code",
      "source": [
        "# You code here:\n"
      ],
      "metadata": {
        "id": "By9kMhz5LAn_"
      },
      "execution_count": null,
      "outputs": []
    },
    {
      "cell_type": "markdown",
      "source": [
        "You conclusion here (double click here to edit):\n",
        "\n",
        "\n"
      ],
      "metadata": {
        "id": "FARkeHoILT8C"
      }
    },
    {
      "cell_type": "markdown",
      "source": [
        "When you finish, don't forget to save this notebook. Then download it as a .ipynb and submit it."
      ],
      "metadata": {
        "id": "yM8oskeNLa9x"
      }
    }
  ]
}