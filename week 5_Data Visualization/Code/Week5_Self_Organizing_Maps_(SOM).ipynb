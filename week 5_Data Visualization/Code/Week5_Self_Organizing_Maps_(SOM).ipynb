{
  "nbformat": 4,
  "nbformat_minor": 0,
  "metadata": {
    "colab": {
      "provenance": [],
      "include_colab_link": true
    },
    "kernelspec": {
      "name": "python3",
      "display_name": "Python 3"
    },
    "language_info": {
      "name": "python"
    }
  },
  "cells": [
    {
      "cell_type": "markdown",
      "metadata": {
        "id": "view-in-github",
        "colab_type": "text"
      },
      "source": [
        "<a href=\"https://colab.research.google.com/github/sakarla/Machine-Learning-for-Architecs/blob/main/week%205_Data%20Visualization/Code/Week5_Self_Organizing_Maps_(SOM).ipynb\" target=\"_parent\"><img src=\"https://colab.research.google.com/assets/colab-badge.svg\" alt=\"Open In Colab\"/></a>"
      ]
    },
    {
      "cell_type": "markdown",
      "source": [
        "In this notebook, you will learn how to apply the clustering algorithm to the image dataset. We collected satellite images and street view images before and now we want to run Self self-organizing map which is one of the unsupervised algorithms for clustering data.\n",
        "\n",
        "This is a pipeline of our work:\n",
        "\n",
        "1.  **Introduction to SOMs:** Provide a brief overview of what SOMs are and how they are used in machine learning.\n",
        "2. **Environment Setup:** Instructions on installing necessary libraries.\n",
        "3.  **Data Loading:** How to load data from a folder.\n",
        "4.  **Data Preprocessing:** Preparing image data for training.\n",
        "5.  **Training the SOM:** Setting up and training the SOM on image data.\n",
        "6.  **Visualization:** Visualizing the results.\n",
        "7.  **Conclusion:** Summarize what was learned."
      ],
      "metadata": {
        "id": "6jKttD5dim-8"
      }
    },
    {
      "cell_type": "markdown",
      "source": [
        "## Introduction to Self-Organizing Maps (SOMs)\n",
        "\n",
        "Self-Organizing Maps (SOMs) are a type of unsupervised learning that help to visualize and interpret high-dimensional data in lower-dimensional (usually 2D) spaces. They are particularly useful for clustering and visualizing complex datasets like images.\n"
      ],
      "metadata": {
        "id": "yZI9NxRDjt5U"
      }
    },
    {
      "cell_type": "markdown",
      "source": [
        "## Environment Setup\n",
        "\n",
        "Please run the below cell to install necessary libraries if they are not already installed.\n"
      ],
      "metadata": {
        "id": "3qpLteZ_j4Sz"
      }
    },
    {
      "cell_type": "code",
      "execution_count": null,
      "metadata": {
        "id": "4XUHgHPEQjpw"
      },
      "outputs": [],
      "source": [
        "!pip install minisom Pillow\n"
      ]
    },
    {
      "cell_type": "markdown",
      "source": [
        "## Loading Data\n",
        "\n",
        "To start, we will link this notebook to your Google Drive. Make sure you are logged in on your Google account"
      ],
      "metadata": {
        "id": "RcSToIBDkBBM"
      }
    },
    {
      "cell_type": "code",
      "source": [
        "from google.colab import drive\n",
        "drive.mount('/content/drive')"
      ],
      "metadata": {
        "id": "Y6dUDZDEkfUq"
      },
      "execution_count": null,
      "outputs": []
    },
    {
      "cell_type": "markdown",
      "source": [
        "## Data Preprocessing\n",
        "\n",
        "You'll need to load your images and possibly preprocess them. This typically includes resizing the images to a standard size and flattening them into a vector form since SOMs work with vector data.\n",
        "change the path if you needed for your dataset:`image_paths = glob.glob('/content/drive/MyDrive/Colab Notebooks/satellite_images/*.jpg') `"
      ],
      "metadata": {
        "id": "NEyHsSpAli-6"
      }
    },
    {
      "cell_type": "code",
      "source": [
        "from PIL import Image\n",
        "import numpy as np\n",
        "import os\n",
        "import glob\n",
        "\n",
        "def load_and_preprocess_image(path, size=(256, 256)):\n",
        "    with Image.open(path) as img:\n",
        "        img = img.resize(size)  # Resize image to a larger size\n",
        "    return np.array(img).flatten()  # Convert to a flat array\n"
      ],
      "metadata": {
        "id": "r02Q3_b5q87g"
      },
      "execution_count": null,
      "outputs": []
    },
    {
      "cell_type": "code",
      "source": [
        "###########################################################################################\n",
        "# Assuming your images are in a folder called 'downloaded_images'\n",
        "image_paths = glob.glob('/content/drive/MyDrive/Colab Notebooks/myproject/satellite_images/*.jpg')\n",
        "###########################################################################################\n",
        "data = np.array([load_and_preprocess_image(path) for path in image_paths])\n"
      ],
      "metadata": {
        "id": "gS1TNY-cQ1gD"
      },
      "execution_count": null,
      "outputs": []
    },
    {
      "cell_type": "markdown",
      "source": [
        "## Train the Self-Organizing Map\n",
        "\n",
        "We will now initialize and train our SOM on the preprocessed image features.\n"
      ],
      "metadata": {
        "id": "OYd1QeXfr_PE"
      }
    },
    {
      "cell_type": "code",
      "source": [
        "!pip install minisom\n",
        "from minisom import MiniSom\n",
        "\n",
        "# SOM initialization and training\n",
        "som_width = 5\n",
        "som_height = 5\n",
        "som = MiniSom(som_width, som_height, data.shape[1], sigma=1.0, learning_rate=0.5)\n",
        "\n",
        "# Randomly initialize weights\n",
        "som.random_weights_init(data)\n",
        "\n",
        "# Train the SOM\n",
        "num_iteration = 100\n",
        "som.train_random(data, num_iteration)  # Training with random data each time\n"
      ],
      "metadata": {
        "id": "hFMF4ix8rBci"
      },
      "execution_count": null,
      "outputs": []
    },
    {
      "cell_type": "markdown",
      "source": [
        "## Visualization of SOM Results\n",
        "\n",
        "After training the SOM, you might want to visualize the results to understand what the SOM has learned.\n"
      ],
      "metadata": {
        "id": "gK9JpqPqsFqL"
      }
    },
    {
      "cell_type": "code",
      "source": [
        "import matplotlib.pyplot as plt\n",
        "\n",
        "# Function to plot SOM's weight\n",
        "def plot_som_weights(som):\n",
        "    plt.figure(figsize=(10, 10))\n",
        "    for i in range(som_width):\n",
        "        for j in range(som_height):\n",
        "            weight = som.get_weights()[i, j].reshape((256, 256, 3))  # Adjust shape based on your image's channel\n",
        "            plt.subplot(som_width, som_height, i * som_height + j + 1)\n",
        "            plt.imshow(weight.astype(np.uint8), interpolation='none')\n",
        "            plt.axis('off')\n",
        "    plt.show()\n",
        "\n",
        "plot_som_weights(som)\n"
      ],
      "metadata": {
        "id": "tpJruuqFsDs2"
      },
      "execution_count": null,
      "outputs": []
    },
    {
      "cell_type": "markdown",
      "source": [
        "# **Streetview images**"
      ],
      "metadata": {
        "id": "r8x9hyQFI8od"
      }
    },
    {
      "cell_type": "markdown",
      "source": [
        "Now we want to train SOM on the Street View dataset and visualize it."
      ],
      "metadata": {
        "id": "_N-jQvHtIcOM"
      }
    },
    {
      "cell_type": "code",
      "source": [
        "###########################################################################################\n",
        "# Assuming your images are in a folder called 'downloaded_images'\n",
        "image_paths = glob.glob('/content/drive/MyDrive/Colab Notebooks/myproject/streetview_images/*.jpg')\n",
        "\n",
        "###########################################################################################"
      ],
      "metadata": {
        "id": "noQTjfPUSAQf"
      },
      "execution_count": null,
      "outputs": []
    },
    {
      "cell_type": "code",
      "source": [
        "\n",
        "###########################################################################################\n",
        "data = np.array([load_and_preprocess_image(path) for path in image_paths])\n",
        "\n",
        "# SOM initialization and training\n",
        "som_width = 5\n",
        "som_height = 5\n",
        "som = MiniSom(som_width, som_height, data.shape[1], sigma=1.0, learning_rate=0.5)\n",
        "\n",
        "# Randomly initialize weights\n",
        "som.random_weights_init(data)\n",
        "\n",
        "# Train the SOM\n",
        "num_iteration = 100\n",
        "som.train_random(data, num_iteration)  # Training with random data each time\n",
        "\n",
        "\n",
        "# Function to plot SOM's weight\n",
        "def plot_som_weights(som):\n",
        "    plt.figure(figsize=(10, 10))\n",
        "    for i in range(som_width):\n",
        "        for j in range(som_height):\n",
        "            weight = som.get_weights()[i, j].reshape((256, 256, 3))  # Adjust shape based on your image's channel\n",
        "            plt.subplot(som_width, som_height, i * som_height + j + 1)\n",
        "            plt.imshow(weight.astype(np.uint8), interpolation='none')\n",
        "            plt.axis('off')\n",
        "    plt.show()\n",
        "\n",
        "plot_som_weights(som)\n"
      ],
      "metadata": {
        "id": "UpVR8-ekC_4-"
      },
      "execution_count": null,
      "outputs": []
    },
    {
      "cell_type": "code",
      "source": [],
      "metadata": {
        "id": "W6eZwy5M00-o"
      },
      "execution_count": null,
      "outputs": []
    }
  ]
}